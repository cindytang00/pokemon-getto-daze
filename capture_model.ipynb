{
 "cells": [
  {
   "cell_type": "markdown",
   "id": "1c91570b-a52d-4a85-8f3b-39d51050f2c0",
   "metadata": {},
   "source": [
    "# Pokemon: Generation I Capture Mechanism Modelling"
   ]
  },
  {
   "cell_type": "code",
   "execution_count": 1,
   "id": "a0625c60-b53d-439e-96e2-02975b322206",
   "metadata": {},
   "outputs": [
    {
     "name": "stderr",
     "output_type": "stream",
     "text": [
      "/Users/cindy/opt/anaconda3/lib/python3.8/site-packages/scipy/__init__.py:146: UserWarning: A NumPy version >=1.16.5 and <1.23.0 is required for this version of SciPy (detected version 1.24.4\n",
      "  warnings.warn(f\"A NumPy version >={np_minversion} and <{np_maxversion}\"\n"
     ]
    }
   ],
   "source": [
    "# Import libraries\n",
    "import random\n",
    "import math\n",
    "import numpy as np\n",
    "import pandas as pd\n",
    "\n",
    "import matplotlib.pyplot as plt\n",
    "import seaborn as sns\n",
    "sns.set_theme(style=\"ticks\", palette=None)\n",
    "import plotly.graph_objects as go\n",
    "\n",
    "from ipywidgets import interactive\n",
    "import ipywidgets as widgets"
   ]
  },
  {
   "cell_type": "markdown",
   "id": "848da5d9-7cfd-48fa-8a00-bc8198858156",
   "metadata": {},
   "source": [
    "## Mechanism\n",
    "\n",
    "The algorithm depends on 4 parameters:\n",
    "- Ball\n",
    "- Pokemon Status\n",
    "- Capture rate of the Pokemon\n",
    "- Current HP of the Pokemon\n",
    "\n",
    "Filter 1 depends on Ball, Status and Capture rate.\n",
    "\n",
    "Filter 2 depends on Ball and HP."
   ]
  },
  {
   "cell_type": "code",
   "execution_count": 2,
   "id": "e4857eae-6d0e-4e59-8e0f-c0d598bca61c",
   "metadata": {},
   "outputs": [],
   "source": [
    "def capture_pokemon(ball, status, capture_rate, hp):\n",
    "    \"\"\"\n",
    "    Simulate the capture process and determine if the Pokémon is caught.\n",
    "    \n",
    "    Args:\n",
    "        ball (str): Type of ball used (\"Master Ball\", \"Poké Ball\", \"Great Ball\", \"Ultra Ball\", \"Safari Ball\").\n",
    "        status (str): Status condition of the Pokémon (\"normal\", \"asleep\", \"frozen\", \"paralyzed\", \"burned\", \"poisoned\").\n",
    "        capture_rate (int): The capture rate of the Pokémon (from 3 to 255).\n",
    "        hp (float): Percentage of current HP of the Pokemon (from 0 to 1)\n",
    "        \n",
    "    Returns:\n",
    "        bool: True if the Pokémon is caught and False and if the Pokémon breaks free.\n",
    "    \"\"\"\n",
    "    \n",
    "    # Check entries\n",
    "    valid_balls = [\"Master Ball\", \"Poké Ball\", \"Great Ball\", \"Ultra Ball\", \"Safari Ball\"]\n",
    "    valid_status = [\"normal\", \"asleep\", \"frozen\", \"paralyzed\", \"burned\", \"poisoned\"]\n",
    "    if capture_rate not in range(3, 256):\n",
    "        raise ValueError(f\"Invalid capture_rate. Please use enter a integer between 3 and 255.\")\n",
    "    if hp < 0.0 or hp > 1.0:\n",
    "        raise ValueError(f\"Invalid hp. Please use enter a number between 0 and 1.\")\n",
    "\n",
    "        \n",
    "    # Variable B1 for types of Ball\n",
    "    if ball == \"Master Ball\":\n",
    "        return True\n",
    "    elif ball == \"Poké Ball\":\n",
    "        B1 = random.randint(0, 256)\n",
    "    elif ball == \"Great Ball\":\n",
    "        B1 = random.randint(0, 201)\n",
    "    elif ball == \"Ultra Ball\" or \"Safari Ball\":\n",
    "        B1 = random.randint(0, 151)\n",
    "    else:\n",
    "        raise ValueError(f\"Invalid ball type. Please use one of the following: {valid_balls}\")\n",
    "\n",
    "        \n",
    "    # Variable S for Pokemon status\n",
    "    if status == \"normal\":\n",
    "        S = 0\n",
    "    elif status == \"asleep\" or \"frozen\":\n",
    "        S = 25\n",
    "    elif status == \"paralyzed\" or \"burned\" or \"poisoned\":\n",
    "        S = 12\n",
    "    else:\n",
    "        raise ValueError(f\"Invalid status. Please use one of the following: {valid_status}\")\n",
    "        \n",
    "    \n",
    "    \n",
    "    # Filter 1: Ball, Status, Capture rate\n",
    "    if B1 - S < 0:\n",
    "        return True # %True = S/B1\n",
    "    elif B1 - S > capture_rate:\n",
    "        return False # %False = (B1 - (C + S +1)) / B1\n",
    "\n",
    "    \n",
    "    # Filter 2: Ball, HP \n",
    "    # %Through Filter 2 = (C+1)/B1\n",
    "    if ball == \"Great Ball\":\n",
    "        B2 = 8\n",
    "    else:\n",
    "        B2 = 12\n",
    "        \n",
    "    if max(1, min(math.floor(255 * 4 / hp / B2), 255)) >= random.randint(0, 256):\n",
    "        return True # %True = (max(1, min(math.floor(255 * 4 / hp / B2), 255)) +1) / 256\n",
    "    else:\n",
    "        return False"
   ]
  },
  {
   "cell_type": "code",
   "execution_count": 3,
   "id": "f3ab5989-ab29-4a5b-bcc5-2f6972332413",
   "metadata": {},
   "outputs": [
    {
     "data": {
      "text/plain": [
       "False"
      ]
     },
     "execution_count": 3,
     "metadata": {},
     "output_type": "execute_result"
    }
   ],
   "source": [
    "# Application example\n",
    "capture_pokemon(ball=\"Poké Ball\", status=\"normal\", capture_rate=125, hp=0.5)"
   ]
  },
  {
   "cell_type": "markdown",
   "id": "d5ddb892-9a9f-4b63-851b-b90d622dc398",
   "metadata": {
    "tags": []
   },
   "source": [
    "---"
   ]
  },
  {
   "cell_type": "markdown",
   "id": "1bfb5b3b-e18c-48f9-ac74-df7e1c573e4b",
   "metadata": {},
   "source": [
    "## Chance of Catch Calculation"
   ]
  },
  {
   "cell_type": "code",
   "execution_count": 4,
   "id": "21a9a276-d6fb-481a-9ad4-44b638685222",
   "metadata": {},
   "outputs": [],
   "source": [
    "def capture_chance(ball, status, capture_rate, hp):\n",
    "    \"\"\"\n",
    "    Calculate the chance the Pokemon is caught.\n",
    "    \n",
    "    Args:\n",
    "        ball (str): Type of ball used (\"Master Ball\", \"Poké Ball\", \"Great Ball\", \"Ultra Ball\", \"Safari Ball\").\n",
    "        status (str): Status condition of the Pokémon (\"normal\", \"asleep\", \"frozen\", \"paralyzed\", \"burned\", \"poisoned\").\n",
    "        capture_rate (int): The capture rate of the Pokémon.\n",
    "        hp (float): Percentage of current HP of the Pokemon (from 0 to 1)\n",
    "        \n",
    "    Returns:\n",
    "        list of float: [\n",
    "        chance of success after filter 1,\n",
    "        chance of success after filter 2,\n",
    "        chance of fail after filter 2,\n",
    "        chance of fail after filter 1]\n",
    "    \"\"\"\n",
    "    \n",
    "    # Check entries\n",
    "    valid_balls = [\"Master Ball\", \"Poké Ball\", \"Great Ball\", \"Ultra Ball\", \"Safari Ball\"]\n",
    "    valid_status = [\"normal\", \"asleep\", \"frozen\", \"paralyzed\", \"burned\", \"poisoned\"]\n",
    "    if capture_rate not in range(3, 256):\n",
    "        raise ValueError(f\"Invalid capture_rate. Please use enter a integer between 3 and 255.\")\n",
    "    if hp < 0.0 or hp > 1.0:\n",
    "        raise ValueError(f\"Invalid hp. Please use enter a number between 0 and 1.\")\n",
    "\n",
    "        \n",
    "    # Variable B1 for types of Ball\n",
    "    if ball == \"Master Ball\":\n",
    "        return [1.0, 0.0, 0.0, 0.0]\n",
    "    elif ball == \"Poké Ball\":\n",
    "        B1 = 256\n",
    "        B2 = 12\n",
    "    elif ball == \"Great Ball\":\n",
    "        B1 = 201\n",
    "        B2 = 8\n",
    "    elif ball == \"Ultra Ball\" or \"Safari Ball\":\n",
    "        B1 = 151\n",
    "        B2 = 12\n",
    "    else:\n",
    "        raise ValueError(f\"Invalid ball type. Please use one of the following: {valid_balls}\")\n",
    "\n",
    "        \n",
    "    # Variable S for Pokemon status\n",
    "    if status == \"normal\":\n",
    "        S = 0\n",
    "    elif status == \"asleep\" or \"frozen\":\n",
    "        S = 25\n",
    "    elif status == \"paralyzed\" or \"burned\" or \"poisoned\":\n",
    "        S = 12\n",
    "    else:\n",
    "        raise ValueError(f\"Invalid status. Please use one of the following: {valid_status}\")\n",
    "        \n",
    "    # Variable F for filter 2 calculation    \n",
    "    F = max(1, min(math.floor(255 * 4 / hp / B2), 255))\n",
    "    \n",
    "    # Result\n",
    "    p_success_1 = S/B1\n",
    "    p_fail_1 = max(0, 1 - (capture_rate+S+1)/B1) # if negetive -> 0\n",
    "    p_2 = 1 - p_success_1 - p_fail_1 # probability to go to filter 2\n",
    "    p_success_2 = p_2 * ((F+1)/256)\n",
    "    p_fail_2 = p_2 * (1-((F+1)/256))\n",
    "    \n",
    "    return [p_success_1, p_success_2, p_fail_2, p_fail_1]"
   ]
  },
  {
   "cell_type": "code",
   "execution_count": 5,
   "id": "10ef3e1f-faab-43db-8d0c-82c456956378",
   "metadata": {},
   "outputs": [
    {
     "data": {
      "text/plain": [
       "[0.0, 0.66796875, 0.33203125, 0]"
      ]
     },
     "execution_count": 5,
     "metadata": {},
     "output_type": "execute_result"
    }
   ],
   "source": [
    "# Application example\n",
    "capture_chance(ball=\"Ultra Ball\", status=\"normal\", capture_rate=255, hp=0.5)"
   ]
  },
  {
   "cell_type": "markdown",
   "id": "7b5d4530-28b8-44ab-967c-1d1a6e9ac50c",
   "metadata": {},
   "source": [
    "### Visualization"
   ]
  },
  {
   "cell_type": "code",
   "execution_count": 6,
   "id": "f7945374-7a89-4246-b038-8ebc6a1000f1",
   "metadata": {},
   "outputs": [
    {
     "data": {
      "application/vnd.jupyter.widget-view+json": {
       "model_id": "8a2a8ce886234fdf884c90d70e148df0",
       "version_major": 2,
       "version_minor": 0
      },
      "text/plain": [
       "interactive(children=(IntSlider(value=150, description='capture_rate', max=255, min=3, step=2), Output()), _do…"
      ]
     },
     "metadata": {},
     "output_type": "display_data"
    }
   ],
   "source": [
    "def f(capture_rate):\n",
    "    # Define parameter values\n",
    "    hp_values = np.linspace(0.1, 1.0, 10)\n",
    "    balls = [\"Poké Ball\", \"Great Ball\", \"Ultra Ball\", \"Master Ball\"]\n",
    "    status_conditions = [\"normal\", \"asleep\", \"paralyzed\"]\n",
    "\n",
    "    # Create subplots for each combination of ball and status\n",
    "    fig, axes = plt.subplots(len(balls), len(status_conditions), figsize=(12, 15), sharex=True, sharey=True)\n",
    "\n",
    "    # Loop through each combination of ball and status and create horizontal grouped stacked bar charts\n",
    "    for ball_index, ball in enumerate(balls):\n",
    "        for status_index, status in enumerate(status_conditions):\n",
    "            probabilities = [capture_chance(ball, status, capture_rate, hp) for hp in hp_values]\n",
    "\n",
    "            # Extract individual probabilities\n",
    "            success_filter1 = [prob[0] for prob in probabilities]\n",
    "            success_filter2 = [prob[1] for prob in probabilities]\n",
    "            fail_filter2 = [prob[2] for prob in probabilities]\n",
    "            fail_filter1 = [prob[3] for prob in probabilities]\n",
    "\n",
    "            # Calculate position for bars within the group\n",
    "            position = np.arange(len(hp_values))\n",
    "\n",
    "            # Define colors\n",
    "            colors = ['#488F31', '#A1C292', '#EF9FA0', '#DE425B']  # Dark Green, Light Green, Light Red, Dark Red\n",
    "\n",
    "            # Create horizontal stacked bar chart for the current ball and status in the respective subplot\n",
    "            axes[ball_index, status_index].barh(position, success_filter1, label='Success after Filter 1', color=colors[0])\n",
    "            axes[ball_index, status_index].barh(position, success_filter2, label='Success after Filter 2', color=colors[1], left=success_filter1)\n",
    "            axes[ball_index, status_index].barh(position, fail_filter2, label='Fail after Filter 2', color=colors[2], left=np.array(success_filter1) + np.array(success_filter2))\n",
    "            axes[ball_index, status_index].barh(position, fail_filter1, label='Fail after Filter 1', color=colors[3], left=np.array(success_filter1) + np.array(success_filter2) + np.array(fail_filter2))\n",
    "\n",
    "            # Set subplot titles and labels\n",
    "            axes[ball_index, status_index].set_title(f'{ball} - {status}')\n",
    "            axes[ball_index, status_index].set_yticks(position)\n",
    "            axes[ball_index, status_index].set_yticklabels([f'{hp:.2f}' for hp in hp_values])\n",
    "            axes[ball_index, status_index].set_ylabel('Current HP')\n",
    "            axes[ball_index, status_index].set_xlabel('Probabilities')\n",
    "\n",
    "    # Set overall plot title\n",
    "    plt.suptitle('Capture Probabilities for Different Balls and Status Conditions', fontsize=16)\n",
    "\n",
    "    # Adjust layout to prevent overlapping titles and labels\n",
    "    plt.tight_layout()\n",
    "    plt.subplots_adjust(top=0.9)\n",
    "    plt.legend(loc='center left', bbox_to_anchor=(1.25, 4.5))\n",
    "    plt.show()\n",
    "\n",
    "# Vary capture_rate with the slider\n",
    "capture_rate_slider = interactive(f, capture_rate=widgets.IntSlider(min=3, max=255, step=2, value=150))\n",
    "display(capture_rate_slider)"
   ]
  },
  {
   "cell_type": "code",
   "execution_count": 24,
   "id": "f7e47bb5-6e70-4276-86db-255795833bfa",
   "metadata": {},
   "outputs": [
    {
     "data": {
      "application/vnd.jupyter.widget-view+json": {
       "model_id": "d08afb1673d4417d9e614cb26c4292c7",
       "version_major": 2,
       "version_minor": 0
      },
      "text/plain": [
       "interactive(children=(IntSlider(value=150, description='capture_rate', max=255, min=3, step=2), Output()), _do…"
      ]
     },
     "metadata": {},
     "output_type": "display_data"
    }
   ],
   "source": [
    "def f(capture_rate):\n",
    "    hp_list = [i * 0.1 for i in range(1, 11)]\n",
    "    pokeball_normal_chance = [sum(capture_chance(\"Poké Ball\", \"normal\", capture_rate, hp)[:2]) for hp in hp_list]\n",
    "    pokeball_asleep_chance = [sum(capture_chance(\"Poké Ball\", \"asleep\", capture_rate, hp)[:2]) for hp in hp_list]\n",
    "    pokeball_paralyzed_chance = [sum(capture_chance(\"Poké Ball\", \"paralyzed\", capture_rate, hp)[:2]) for hp in hp_list]\n",
    "\n",
    "    greatball_normal_chances = [sum(capture_chance(\"Great Ball\", \"normal\", capture_rate, hp)[:2]) for hp in hp_list]\n",
    "    greatball_asleep_chances = [sum(capture_chance(\"Great Ball\", \"asleep\", capture_rate, hp)[:2]) for hp in hp_list]\n",
    "    greatball_paralyzed_chances = [sum(capture_chance(\"Great Ball\", \"paralyzed\", capture_rate, hp)[:2]) for hp in hp_list]\n",
    "\n",
    "    ultraball_normal_chances = [sum(capture_chance(\"Ultra Ball\", \"normal\", capture_rate, hp)[:2]) for hp in hp_list]\n",
    "    ultraball_asleep_chances = [sum(capture_chance(\"Ultra Ball\", \"asleep\", capture_rate, hp)[:2]) for hp in hp_list]\n",
    "    ultraball_paralyzed_chances = [sum(capture_chance(\"Ultra Ball\", \"paralyzed\", capture_rate, hp)[:2]) for hp in hp_list]\n",
    "\n",
    "    plt.figure(figsize=(8, 6))\n",
    "\n",
    "    plt.plot(hp_list, pokeball_normal_chance, label=\"Poké Ball - normal\", color=\"#e60000\")\n",
    "    plt.plot(hp_list, pokeball_asleep_chance, label=\"Poké Ball - asleep\", color=\"#a50006\")\n",
    "    plt.plot(hp_list, pokeball_paralyzed_chance, label=\"Poké Ball - paralyzed\", color=\"#670000\")\n",
    "\n",
    "    plt.plot(hp_list, greatball_normal_chances, label=\"Great Ball - normal\", color=\"#00ade6\")\n",
    "    plt.plot(hp_list, greatball_asleep_chances, label=\"Great Ball - asleep\", color=\"#0070ce\")\n",
    "    plt.plot(hp_list, greatball_paralyzed_chances, label=\"Great Ball - paralyzed\", color=\"#002ca0\")\n",
    "\n",
    "    plt.plot(hp_list, ultraball_normal_chances, label=\"Ultra Ball - normal\", color=\"#95e600\")\n",
    "    plt.plot(hp_list, ultraball_asleep_chances, label=\"Ultra Ball - asleep\", color=\"#469608\")\n",
    "    plt.plot(hp_list, ultraball_paralyzed_chances, label=\"Ultra Ball - paralyzed\", color=\"#004c00\")\n",
    "\n",
    "    plt.xlabel('HP')\n",
    "    plt.ylabel('% catch')\n",
    "    plt.ylim(ymin=0, ymax=1)\n",
    "    plt.title('Probabilities of Catch')\n",
    "    plt.legend()\n",
    "    plt.show()\n",
    "\n",
    "\n",
    "# Vary capture_rate with the slider\n",
    "capture_rate_slider = interactive(f, capture_rate=widgets.IntSlider(min=3, max=255, step=2, value=150))\n",
    "display(capture_rate_slider)"
   ]
  }
 ],
 "metadata": {
  "kernelspec": {
   "display_name": "Python 3 (ipykernel)",
   "language": "python",
   "name": "python3"
  },
  "language_info": {
   "codemirror_mode": {
    "name": "ipython",
    "version": 3
   },
   "file_extension": ".py",
   "mimetype": "text/x-python",
   "name": "python",
   "nbconvert_exporter": "python",
   "pygments_lexer": "ipython3",
   "version": "3.8.8"
  }
 },
 "nbformat": 4,
 "nbformat_minor": 5
}
